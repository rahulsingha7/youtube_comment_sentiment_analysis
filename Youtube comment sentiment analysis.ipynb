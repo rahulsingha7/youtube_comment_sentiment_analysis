{
 "cells": [
  {
   "cell_type": "code",
   "execution_count": 24,
   "id": "1c55eec3-9d80-4fce-b1a6-bd175d027696",
   "metadata": {},
   "outputs": [],
   "source": [
    "import pandas as pd"
   ]
  },
  {
   "cell_type": "code",
   "execution_count": 25,
   "id": "987c4f0b",
   "metadata": {},
   "outputs": [],
   "source": [
    "df = pd.read_csv('youtube_sentiment.csv')"
   ]
  },
  {
   "cell_type": "code",
   "execution_count": 26,
   "id": "d3e75d92",
   "metadata": {},
   "outputs": [
    {
     "data": {
      "text/html": [
       "<div>\n",
       "<style scoped>\n",
       "    .dataframe tbody tr th:only-of-type {\n",
       "        vertical-align: middle;\n",
       "    }\n",
       "\n",
       "    .dataframe tbody tr th {\n",
       "        vertical-align: top;\n",
       "    }\n",
       "\n",
       "    .dataframe thead th {\n",
       "        text-align: right;\n",
       "    }\n",
       "</style>\n",
       "<table border=\"1\" class=\"dataframe\">\n",
       "  <thead>\n",
       "    <tr style=\"text-align: right;\">\n",
       "      <th></th>\n",
       "      <th>Index</th>\n",
       "      <th>Comment</th>\n",
       "      <th>Predicted Class</th>\n",
       "    </tr>\n",
       "  </thead>\n",
       "  <tbody>\n",
       "    <tr>\n",
       "      <th>0</th>\n",
       "      <td>1.0</td>\n",
       "      <td>Just subscribed, downloading this and will wat...</td>\n",
       "      <td>Postive</td>\n",
       "    </tr>\n",
       "    <tr>\n",
       "      <th>1</th>\n",
       "      <td>2.0</td>\n",
       "      <td>Could you please do ERPnext tutorial ?</td>\n",
       "      <td>Interrogative</td>\n",
       "    </tr>\n",
       "    <tr>\n",
       "      <th>2</th>\n",
       "      <td>3.0</td>\n",
       "      <td>I hate that this is where programming is heade...</td>\n",
       "      <td>Negative</td>\n",
       "    </tr>\n",
       "    <tr>\n",
       "      <th>3</th>\n",
       "      <td>4.0</td>\n",
       "      <td>Can you please share this using sharegpt?</td>\n",
       "      <td>Interrogative</td>\n",
       "    </tr>\n",
       "    <tr>\n",
       "      <th>4</th>\n",
       "      <td>5.0</td>\n",
       "      <td>The fact this video is 2-3 hours when the non ...</td>\n",
       "      <td>Negative</td>\n",
       "    </tr>\n",
       "    <tr>\n",
       "      <th>...</th>\n",
       "      <td>...</td>\n",
       "      <td>...</td>\n",
       "      <td>...</td>\n",
       "    </tr>\n",
       "    <tr>\n",
       "      <th>1046</th>\n",
       "      <td>996.0</td>\n",
       "      <td>Me: Starts learning HTML, CSS, and JavaScript ...</td>\n",
       "      <td>Miscellanous</td>\n",
       "    </tr>\n",
       "    <tr>\n",
       "      <th>1047</th>\n",
       "      <td>997.0</td>\n",
       "      <td>basically, a Blazor alternative that was creat...</td>\n",
       "      <td>Miscellanous</td>\n",
       "    </tr>\n",
       "    <tr>\n",
       "      <th>1048</th>\n",
       "      <td>998.0</td>\n",
       "      <td>Cant wait to see browsers getting slower :D</td>\n",
       "      <td>Negative</td>\n",
       "    </tr>\n",
       "    <tr>\n",
       "      <th>1049</th>\n",
       "      <td>999.0</td>\n",
       "      <td>Great intro! This is a big step forward imho</td>\n",
       "      <td>Positive</td>\n",
       "    </tr>\n",
       "    <tr>\n",
       "      <th>1050</th>\n",
       "      <td>1000.0</td>\n",
       "      <td>Damn Awesome Content 🔥</td>\n",
       "      <td>Positive</td>\n",
       "    </tr>\n",
       "  </tbody>\n",
       "</table>\n",
       "<p>1051 rows × 3 columns</p>\n",
       "</div>"
      ],
      "text/plain": [
       "       Index                                            Comment  \\\n",
       "0        1.0  Just subscribed, downloading this and will wat...   \n",
       "1        2.0             Could you please do ERPnext tutorial ?   \n",
       "2        3.0  I hate that this is where programming is heade...   \n",
       "3        4.0          Can you please share this using sharegpt?   \n",
       "4        5.0  The fact this video is 2-3 hours when the non ...   \n",
       "...      ...                                                ...   \n",
       "1046   996.0  Me: Starts learning HTML, CSS, and JavaScript ...   \n",
       "1047   997.0  basically, a Blazor alternative that was creat...   \n",
       "1048   998.0        Cant wait to see browsers getting slower :D   \n",
       "1049   999.0       Great intro! This is a big step forward imho   \n",
       "1050  1000.0                             Damn Awesome Content 🔥   \n",
       "\n",
       "     Predicted Class  \n",
       "0            Postive  \n",
       "1      Interrogative  \n",
       "2           Negative  \n",
       "3      Interrogative  \n",
       "4           Negative  \n",
       "...              ...  \n",
       "1046    Miscellanous  \n",
       "1047    Miscellanous  \n",
       "1048        Negative  \n",
       "1049        Positive  \n",
       "1050        Positive  \n",
       "\n",
       "[1051 rows x 3 columns]"
      ]
     },
     "execution_count": 26,
     "metadata": {},
     "output_type": "execute_result"
    }
   ],
   "source": [
    "df"
   ]
  },
  {
   "cell_type": "code",
   "execution_count": null,
   "id": "bc755e19",
   "metadata": {},
   "outputs": [],
   "source": [
    "adsfasfsaf"
   ]
  }
 ],
 "metadata": {
  "kernelspec": {
   "display_name": "Python 3 (ipykernel)",
   "language": "python",
   "name": "python3"
  },
  "language_info": {
   "codemirror_mode": {
    "name": "ipython",
    "version": 3
   },
   "file_extension": ".py",
   "mimetype": "text/x-python",
   "name": "python",
   "nbconvert_exporter": "python",
   "pygments_lexer": "ipython3",
   "version": "3.10.9"
  }
 },
 "nbformat": 4,
 "nbformat_minor": 5
}
