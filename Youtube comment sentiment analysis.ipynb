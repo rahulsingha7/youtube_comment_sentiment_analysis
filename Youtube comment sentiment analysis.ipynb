{
 "cells": [
  {
   "cell_type": "code",
   "execution_count": 95,
   "id": "aa51f20c",
   "metadata": {},
   "outputs": [
    {
     "name": "stdout",
     "output_type": "stream",
     "text": [
      "Requirement already satisfied: emoji in c:\\users\\asus\\anaconda3\\lib\\site-packages (2.4.0)\n"
     ]
    }
   ],
   "source": [
    "!pip install emoji"
   ]
  },
  {
   "cell_type": "code",
   "execution_count": 96,
   "id": "1c55eec3-9d80-4fce-b1a6-bd175d027696",
   "metadata": {},
   "outputs": [
    {
     "name": "stderr",
     "output_type": "stream",
     "text": [
      "[nltk_data] Downloading package averaged_perceptron_tagger to\n",
      "[nltk_data]     C:\\Users\\ASUS\\AppData\\Roaming\\nltk_data...\n",
      "[nltk_data]   Package averaged_perceptron_tagger is already up-to-\n",
      "[nltk_data]       date!\n",
      "[nltk_data] Downloading package punkt to\n",
      "[nltk_data]     C:\\Users\\ASUS\\AppData\\Roaming\\nltk_data...\n",
      "[nltk_data]   Package punkt is already up-to-date!\n"
     ]
    },
    {
     "data": {
      "text/plain": [
       "True"
      ]
     },
     "execution_count": 96,
     "metadata": {},
     "output_type": "execute_result"
    }
   ],
   "source": [
    "import pandas as pd\n",
    "import string\n",
    "import emoji\n",
    "import nltk\n",
    "from nltk import word_tokenize, pos_tag\n",
    "nltk.download('averaged_perceptron_tagger')\n",
    "nltk.download('punkt') "
   ]
  },
  {
   "cell_type": "code",
   "execution_count": 97,
   "id": "987c4f0b",
   "metadata": {},
   "outputs": [],
   "source": [
    "df = pd.read_csv('youtube_sentiment.csv')"
   ]
  },
  {
   "cell_type": "code",
   "execution_count": 98,
   "id": "d3e75d92",
   "metadata": {},
   "outputs": [
    {
     "data": {
      "text/html": [
       "<div>\n",
       "<style scoped>\n",
       "    .dataframe tbody tr th:only-of-type {\n",
       "        vertical-align: middle;\n",
       "    }\n",
       "\n",
       "    .dataframe tbody tr th {\n",
       "        vertical-align: top;\n",
       "    }\n",
       "\n",
       "    .dataframe thead th {\n",
       "        text-align: right;\n",
       "    }\n",
       "</style>\n",
       "<table border=\"1\" class=\"dataframe\">\n",
       "  <thead>\n",
       "    <tr style=\"text-align: right;\">\n",
       "      <th></th>\n",
       "      <th>Comment</th>\n",
       "      <th>Predicted Class</th>\n",
       "    </tr>\n",
       "  </thead>\n",
       "  <tbody>\n",
       "    <tr>\n",
       "      <th>0</th>\n",
       "      <td>Just subscribed, downloading this and will wat...</td>\n",
       "      <td>Postive</td>\n",
       "    </tr>\n",
       "    <tr>\n",
       "      <th>1</th>\n",
       "      <td>Could you please do ERPnext tutorial ?</td>\n",
       "      <td>Interrogative</td>\n",
       "    </tr>\n",
       "    <tr>\n",
       "      <th>2</th>\n",
       "      <td>I hate that this is where programming is heade...</td>\n",
       "      <td>Negative</td>\n",
       "    </tr>\n",
       "    <tr>\n",
       "      <th>3</th>\n",
       "      <td>Can you please share this using sharegpt?</td>\n",
       "      <td>Interrogative</td>\n",
       "    </tr>\n",
       "    <tr>\n",
       "      <th>4</th>\n",
       "      <td>The fact this video is 2-3 hours when the non ...</td>\n",
       "      <td>Negative</td>\n",
       "    </tr>\n",
       "    <tr>\n",
       "      <th>...</th>\n",
       "      <td>...</td>\n",
       "      <td>...</td>\n",
       "    </tr>\n",
       "    <tr>\n",
       "      <th>996</th>\n",
       "      <td>Me: Starts learning HTML, CSS, and JavaScript ...</td>\n",
       "      <td>Miscellanous</td>\n",
       "    </tr>\n",
       "    <tr>\n",
       "      <th>997</th>\n",
       "      <td>basically, a Blazor alternative that was creat...</td>\n",
       "      <td>Miscellanous</td>\n",
       "    </tr>\n",
       "    <tr>\n",
       "      <th>998</th>\n",
       "      <td>Cant wait to see browsers getting slower :D</td>\n",
       "      <td>Negative</td>\n",
       "    </tr>\n",
       "    <tr>\n",
       "      <th>999</th>\n",
       "      <td>Great intro! This is a big step forward imho</td>\n",
       "      <td>Positive</td>\n",
       "    </tr>\n",
       "    <tr>\n",
       "      <th>1000</th>\n",
       "      <td>Damn Awesome Content 🔥</td>\n",
       "      <td>Positive</td>\n",
       "    </tr>\n",
       "  </tbody>\n",
       "</table>\n",
       "<p>1001 rows × 2 columns</p>\n",
       "</div>"
      ],
      "text/plain": [
       "                                                Comment Predicted Class\n",
       "0     Just subscribed, downloading this and will wat...         Postive\n",
       "1                Could you please do ERPnext tutorial ?   Interrogative\n",
       "2     I hate that this is where programming is heade...        Negative\n",
       "3             Can you please share this using sharegpt?   Interrogative\n",
       "4     The fact this video is 2-3 hours when the non ...        Negative\n",
       "...                                                 ...             ...\n",
       "996   Me: Starts learning HTML, CSS, and JavaScript ...    Miscellanous\n",
       "997   basically, a Blazor alternative that was creat...    Miscellanous\n",
       "998         Cant wait to see browsers getting slower :D        Negative\n",
       "999        Great intro! This is a big step forward imho        Positive\n",
       "1000                             Damn Awesome Content 🔥        Positive\n",
       "\n",
       "[1001 rows x 2 columns]"
      ]
     },
     "execution_count": 98,
     "metadata": {},
     "output_type": "execute_result"
    }
   ],
   "source": [
    "df"
   ]
  },
  {
   "cell_type": "code",
   "execution_count": 100,
   "id": "bc755e19",
   "metadata": {},
   "outputs": [],
   "source": [
    "def remove_punctuation(txt):\n",
    "    punctuation = string.punctuation.replace('?', '').replace(\"'\", '')\n",
    "    txt_nopunc = ''.join([c for c in txt if c not in punctuation])\n",
    "    return txt_nopunc\n",
    "\n",
    "def remove_emoji(text):\n",
    "    text_noemoji = emoji.demojize(text)\n",
    "    return text_noemoji.replace(':', '')\n",
    "\n",
    "def remove_nouns_pronouns(text):\n",
    "    tagged_tokens = pos_tag(word_tokenize(text))\n",
    "    return ' '.join(word for word, tag in tagged_tokens if tag not in ['NN', 'NNS', 'NNP', 'NNPS', 'PRP', 'PRP$'])"
   ]
  },
  {
   "cell_type": "code",
   "execution_count": 101,
   "id": "4842901d",
   "metadata": {},
   "outputs": [],
   "source": [
    "df['Comment'] = df['Comment'].str.lower()\n",
    "df['Comment'] = df['Comment'].apply(remove_punctuation)\n",
    "df['Comment'] = df['Comment'].apply(remove_emoji)\n",
    "df['Comment'] = df['Comment'].apply(remove_nouns_pronouns)"
   ]
  },
  {
   "cell_type": "code",
   "execution_count": 102,
   "id": "25e5f153",
   "metadata": {},
   "outputs": [],
   "source": [
    "df.to_csv('clean_dataset.csv', index=False)"
   ]
  },
  {
   "cell_type": "code",
   "execution_count": 103,
   "id": "e060ab1e",
   "metadata": {},
   "outputs": [
    {
     "data": {
      "text/html": [
       "<div>\n",
       "<style scoped>\n",
       "    .dataframe tbody tr th:only-of-type {\n",
       "        vertical-align: middle;\n",
       "    }\n",
       "\n",
       "    .dataframe tbody tr th {\n",
       "        vertical-align: top;\n",
       "    }\n",
       "\n",
       "    .dataframe thead th {\n",
       "        text-align: right;\n",
       "    }\n",
       "</style>\n",
       "<table border=\"1\" class=\"dataframe\">\n",
       "  <thead>\n",
       "    <tr style=\"text-align: right;\">\n",
       "      <th></th>\n",
       "      <th>Comment</th>\n",
       "      <th>Predicted Class</th>\n",
       "    </tr>\n",
       "  </thead>\n",
       "  <tbody>\n",
       "    <tr>\n",
       "      <th>0</th>\n",
       "      <td>just subscribed downloading this and will watc...</td>\n",
       "      <td>Postive</td>\n",
       "    </tr>\n",
       "    <tr>\n",
       "      <th>1</th>\n",
       "      <td>could please do erpnext ?</td>\n",
       "      <td>Interrogative</td>\n",
       "    </tr>\n",
       "    <tr>\n",
       "      <th>2</th>\n",
       "      <td>hate that this is where programming is headed ...</td>\n",
       "      <td>Negative</td>\n",
       "    </tr>\n",
       "    <tr>\n",
       "      <th>3</th>\n",
       "      <td>can please this using ?</td>\n",
       "      <td>Interrogative</td>\n",
       "    </tr>\n",
       "    <tr>\n",
       "      <th>4</th>\n",
       "      <td>the this is 23 when the are around 1 of the here</td>\n",
       "      <td>Negative</td>\n",
       "    </tr>\n",
       "    <tr>\n",
       "      <th>...</th>\n",
       "      <td>...</td>\n",
       "      <td>...</td>\n",
       "    </tr>\n",
       "    <tr>\n",
       "      <th>996</th>\n",
       "      <td>starts learning html and so i can make travers...</td>\n",
       "      <td>Miscellanous</td>\n",
       "    </tr>\n",
       "    <tr>\n",
       "      <th>997</th>\n",
       "      <td>basically a that was created a long ago</td>\n",
       "      <td>Miscellanous</td>\n",
       "    </tr>\n",
       "    <tr>\n",
       "      <th>998</th>\n",
       "      <td>cant to see getting slower</td>\n",
       "      <td>Negative</td>\n",
       "    </tr>\n",
       "    <tr>\n",
       "      <th>999</th>\n",
       "      <td>great this is a big forward</td>\n",
       "      <td>Positive</td>\n",
       "    </tr>\n",
       "    <tr>\n",
       "      <th>1000</th>\n",
       "      <td>damn awesome</td>\n",
       "      <td>Positive</td>\n",
       "    </tr>\n",
       "  </tbody>\n",
       "</table>\n",
       "<p>1001 rows × 2 columns</p>\n",
       "</div>"
      ],
      "text/plain": [
       "                                                Comment Predicted Class\n",
       "0     just subscribed downloading this and will watc...         Postive\n",
       "1                             could please do erpnext ?   Interrogative\n",
       "2     hate that this is where programming is headed ...        Negative\n",
       "3                               can please this using ?   Interrogative\n",
       "4      the this is 23 when the are around 1 of the here        Negative\n",
       "...                                                 ...             ...\n",
       "996   starts learning html and so i can make travers...    Miscellanous\n",
       "997             basically a that was created a long ago    Miscellanous\n",
       "998                          cant to see getting slower        Negative\n",
       "999                         great this is a big forward        Positive\n",
       "1000                                       damn awesome        Positive\n",
       "\n",
       "[1001 rows x 2 columns]"
      ]
     },
     "execution_count": 103,
     "metadata": {},
     "output_type": "execute_result"
    }
   ],
   "source": [
    "df"
   ]
  }
 ],
 "metadata": {
  "kernelspec": {
   "display_name": "Python 3 (ipykernel)",
   "language": "python",
   "name": "python3"
  },
  "language_info": {
   "codemirror_mode": {
    "name": "ipython",
    "version": 3
   },
   "file_extension": ".py",
   "mimetype": "text/x-python",
   "name": "python",
   "nbconvert_exporter": "python",
   "pygments_lexer": "ipython3",
   "version": "3.10.9"
  }
 },
 "nbformat": 4,
 "nbformat_minor": 5
}
