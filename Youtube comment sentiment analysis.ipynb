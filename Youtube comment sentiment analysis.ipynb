{
 "cells": [
  {
   "cell_type": "code",
   "execution_count": 24,
   "id": "1c55eec3-9d80-4fce-b1a6-bd175d027696",
   "metadata": {},
   "outputs": [],
   "source": [
    "import pandas as pd\n",
    "import nltk\n",
    "import numpy as np\n",
    "from nltk.stem import PorterStemmer, WordNetLemmatizer\n",
    "from nltk import pos_tag, word_tokenize\n",
    "from nltk.corpus import stopwords\n",
    "import re\n",
    "from nltk.corpus import wordnet   "
   ]
  },
  {
   "cell_type": "code",
   "execution_count": 25,
   "id": "69f4d44b",
   "metadata": {},
   "outputs": [
    {
     "name": "stderr",
     "output_type": "stream",
     "text": [
      "[nltk_data] Downloading package stopwords to\n",
      "[nltk_data]     C:\\Users\\ASUS\\AppData\\Roaming\\nltk_data...\n",
      "[nltk_data]   Package stopwords is already up-to-date!\n",
      "[nltk_data] Downloading package wordnet to\n",
      "[nltk_data]     C:\\Users\\ASUS\\AppData\\Roaming\\nltk_data...\n",
      "[nltk_data]   Package wordnet is already up-to-date!\n",
      "[nltk_data] Downloading package omw-1.4 to\n",
      "[nltk_data]     C:\\Users\\ASUS\\AppData\\Roaming\\nltk_data...\n",
      "[nltk_data]   Package omw-1.4 is already up-to-date!\n",
      "[nltk_data] Downloading package averaged_perceptron_tagger to\n",
      "[nltk_data]     C:\\Users\\ASUS\\AppData\\Roaming\\nltk_data...\n",
      "[nltk_data]   Package averaged_perceptron_tagger is already up-to-\n",
      "[nltk_data]       date!\n"
     ]
    },
    {
     "data": {
      "text/plain": [
       "True"
      ]
     },
     "execution_count": 25,
     "metadata": {},
     "output_type": "execute_result"
    }
   ],
   "source": [
    "nltk.download('stopwords')\n",
    "nltk.download('wordnet')\n",
    "nltk.download('omw-1.4')\n",
    "\n",
    "nltk.download('averaged_perceptron_tagger')"
   ]
  },
  {
   "cell_type": "code",
   "execution_count": 26,
   "id": "987c4f0b",
   "metadata": {},
   "outputs": [],
   "source": [
    "df = pd.read_csv('youtube_sentiment.csv')"
   ]
  },
  {
   "cell_type": "code",
   "execution_count": 27,
   "id": "552ac879",
   "metadata": {},
   "outputs": [],
   "source": [
    "comment_body = df['Comment']"
   ]
  },
  {
   "cell_type": "code",
   "execution_count": 28,
   "id": "4f1a028e",
   "metadata": {},
   "outputs": [],
   "source": [
    "comments=comment_body.to_numpy()"
   ]
  },
  {
   "cell_type": "code",
   "execution_count": 29,
   "id": "5f80e93e",
   "metadata": {},
   "outputs": [
    {
     "data": {
      "text/plain": [
       "array(['Just subscribed, downloading this and will watch in depth later. Excited to learn from what you guys have built',\n",
       "       'Could you please do ERPnext tutorial ?',\n",
       "       'I hate that this is where programming is headed. I’ve chosen the wrong career. So lame. ',\n",
       "       ..., 'Cant wait to see browsers getting slower :D',\n",
       "       'Great intro! This is a big step forward imho',\n",
       "       'Damn Awesome Content 🔥'], dtype=object)"
      ]
     },
     "execution_count": 29,
     "metadata": {},
     "output_type": "execute_result"
    }
   ],
   "source": [
    "comments"
   ]
  },
  {
   "cell_type": "code",
   "execution_count": 30,
   "id": "7b37d9a5",
   "metadata": {},
   "outputs": [],
   "source": [
    "def get_wordnet_pos(tag):\n",
    "    if tag.startswith('J'):\n",
    "        return wordnet.ADJ\n",
    "    elif tag.startswith('V'):\n",
    "        return wordnet.VERB\n",
    "    elif tag.startswith('N'):\n",
    "        return wordnet.NOUN\n",
    "    elif tag.startswith('R'):\n",
    "        return wordnet.ADV\n",
    "    else:\n",
    "        return wordnet.NOUN  # default to noun if the POS tag is not recognized"
   ]
  },
  {
   "cell_type": "code",
   "execution_count": 31,
   "id": "90b5fd32",
   "metadata": {},
   "outputs": [],
   "source": [
    "documents = []\n",
    "lemmatizer = WordNetLemmatizer()\n",
    "\n",
    "\n",
    "for sen in range(0, len(comments)):\n",
    "    # Remove all the special characters except '?' and \"'\" mark\n",
    "    document = re.sub(r'[^a-zA-Z0-9?!\\' ]', ' ', str(comments[sen]))\n",
    "    # remove all single characters from the middle\n",
    "    document = re.sub(r'\\s+[a-zA-Z]\\s+', ' ', document)\n",
    "    # Remove single characters from the start\n",
    "    document = re.sub(r'\\^[a-zA-Z]\\s+', ' ', document) \n",
    "    # Substituting multiple spaces with single space\n",
    "    document = re.sub(r'\\s+', ' ', document, flags=re.I)    \n",
    "    # Converting to lowercase\n",
    "    document = document.lower()\n",
    "    document = re.sub(\"^\\d+\\s|\\s\\d+\\s|\\s\\d+$\", ' ', document)\n",
    "    # Tokenize and perform POS tagging\n",
    "    tokens = word_tokenize(document)\n",
    "    pos_tags = pos_tag(tokens)\n",
    "    # Lemmatization\n",
    "    document = [lemmatizer.lemmatize(word, pos=get_wordnet_pos(tag)) for word, tag in pos_tags]\n",
    "    document = ' '.join(document)\n",
    "    documents.append(document)"
   ]
  },
  {
   "cell_type": "code",
   "execution_count": 32,
   "id": "5465ae62",
   "metadata": {},
   "outputs": [],
   "source": [
    "df['Comment'] = documents"
   ]
  },
  {
   "cell_type": "code",
   "execution_count": 33,
   "id": "abb25ff8",
   "metadata": {},
   "outputs": [],
   "source": [
    "from sklearn.preprocessing import LabelEncoder"
   ]
  },
  {
   "cell_type": "code",
   "execution_count": 34,
   "id": "1fdbf023",
   "metadata": {
    "scrolled": false
   },
   "outputs": [],
   "source": [
    "predicted_class = df['Predicted Class']\n",
    "# Define the desired class labels and their corresponding encoded values\n",
    "class_labels = ['Positive', 'Negative', 'Corrective', 'Interrogative', 'Neutral']\n",
    "encoded_labels = [1, 2, 3, 4, 5]\n",
    "\n",
    "# Create an instance of LabelEncoder\n",
    "label_encoder = LabelEncoder()\n",
    "\n",
    "# Fit the label encoder on the class labels and their encoded values\n",
    "label_encoder.fit(class_labels)\n",
    "\n",
    "# Map the predicted class to the corresponding encoded values\n",
    "encoded_predicted_class = label_encoder.transform(predicted_class)\n",
    "\n",
    "# Create a mapping dictionary for the encoded labels\n",
    "label_mapping = dict(zip(class_labels, encoded_labels))\n",
    "\n",
    "# Map the encoded values to the desired labels\n",
    "mapped_predicted_class = [label_mapping[label] for label in predicted_class]\n",
    "\n",
    "# Create a new column 'Label' based on the mapped predicted class\n",
    "df['Label'] = mapped_predicted_class"
   ]
  },
  {
   "cell_type": "code",
   "execution_count": 35,
   "id": "ecf8d688",
   "metadata": {},
   "outputs": [],
   "source": [
    "df.to_csv('clean_dataset.csv', index=False)"
   ]
  },
  {
   "cell_type": "code",
   "execution_count": 36,
   "id": "29d122c4",
   "metadata": {},
   "outputs": [
    {
     "data": {
      "text/html": [
       "<div>\n",
       "<style scoped>\n",
       "    .dataframe tbody tr th:only-of-type {\n",
       "        vertical-align: middle;\n",
       "    }\n",
       "\n",
       "    .dataframe tbody tr th {\n",
       "        vertical-align: top;\n",
       "    }\n",
       "\n",
       "    .dataframe thead th {\n",
       "        text-align: right;\n",
       "    }\n",
       "</style>\n",
       "<table border=\"1\" class=\"dataframe\">\n",
       "  <thead>\n",
       "    <tr style=\"text-align: right;\">\n",
       "      <th></th>\n",
       "      <th>Comment</th>\n",
       "      <th>Predicted Class</th>\n",
       "      <th>Label</th>\n",
       "    </tr>\n",
       "  </thead>\n",
       "  <tbody>\n",
       "    <tr>\n",
       "      <th>0</th>\n",
       "      <td>just subscribe download this and will watch in...</td>\n",
       "      <td>Positive</td>\n",
       "      <td>1</td>\n",
       "    </tr>\n",
       "    <tr>\n",
       "      <th>1</th>\n",
       "      <td>could you please do erpnext tutorial ?</td>\n",
       "      <td>Interrogative</td>\n",
       "      <td>4</td>\n",
       "    </tr>\n",
       "    <tr>\n",
       "      <th>2</th>\n",
       "      <td>i hate that this be where program be head ve c...</td>\n",
       "      <td>Negative</td>\n",
       "      <td>2</td>\n",
       "    </tr>\n",
       "    <tr>\n",
       "      <th>3</th>\n",
       "      <td>can you please share this use sharegpt ?</td>\n",
       "      <td>Interrogative</td>\n",
       "      <td>4</td>\n",
       "    </tr>\n",
       "    <tr>\n",
       "      <th>4</th>\n",
       "      <td>the fact this video be 3 hour when the non cha...</td>\n",
       "      <td>Negative</td>\n",
       "      <td>2</td>\n",
       "    </tr>\n",
       "    <tr>\n",
       "      <th>...</th>\n",
       "      <td>...</td>\n",
       "      <td>...</td>\n",
       "      <td>...</td>\n",
       "    </tr>\n",
       "    <tr>\n",
       "      <th>996</th>\n",
       "      <td>me start learn html cs and javascript so can m...</td>\n",
       "      <td>Neutral</td>\n",
       "      <td>5</td>\n",
       "    </tr>\n",
       "    <tr>\n",
       "      <th>997</th>\n",
       "      <td>basically blazor alternative that be create lo...</td>\n",
       "      <td>Neutral</td>\n",
       "      <td>5</td>\n",
       "    </tr>\n",
       "    <tr>\n",
       "      <th>998</th>\n",
       "      <td>cant wait to see browser get slow d</td>\n",
       "      <td>Negative</td>\n",
       "      <td>2</td>\n",
       "    </tr>\n",
       "    <tr>\n",
       "      <th>999</th>\n",
       "      <td>great intro ! this be big step forward imho</td>\n",
       "      <td>Positive</td>\n",
       "      <td>1</td>\n",
       "    </tr>\n",
       "    <tr>\n",
       "      <th>1000</th>\n",
       "      <td>damn awesome content</td>\n",
       "      <td>Positive</td>\n",
       "      <td>1</td>\n",
       "    </tr>\n",
       "  </tbody>\n",
       "</table>\n",
       "<p>1001 rows × 3 columns</p>\n",
       "</div>"
      ],
      "text/plain": [
       "                                                Comment Predicted Class  Label\n",
       "0     just subscribe download this and will watch in...        Positive      1\n",
       "1                could you please do erpnext tutorial ?   Interrogative      4\n",
       "2     i hate that this be where program be head ve c...        Negative      2\n",
       "3              can you please share this use sharegpt ?   Interrogative      4\n",
       "4     the fact this video be 3 hour when the non cha...        Negative      2\n",
       "...                                                 ...             ...    ...\n",
       "996   me start learn html cs and javascript so can m...         Neutral      5\n",
       "997   basically blazor alternative that be create lo...         Neutral      5\n",
       "998                 cant wait to see browser get slow d        Negative      2\n",
       "999         great intro ! this be big step forward imho        Positive      1\n",
       "1000                               damn awesome content        Positive      1\n",
       "\n",
       "[1001 rows x 3 columns]"
      ]
     },
     "execution_count": 36,
     "metadata": {},
     "output_type": "execute_result"
    }
   ],
   "source": [
    "df"
   ]
  },
  {
   "cell_type": "code",
   "execution_count": 39,
   "id": "1e93f5e2",
   "metadata": {},
   "outputs": [],
   "source": [
    "from sklearn.feature_extraction.text import TfidfVectorizer\n",
    "from nltk.corpus import stopwords"
   ]
  },
  {
   "cell_type": "code",
   "execution_count": 40,
   "id": "4a3bbfaf",
   "metadata": {},
   "outputs": [
    {
     "name": "stdout",
     "output_type": "stream",
     "text": [
      "2025\n"
     ]
    }
   ],
   "source": [
    "vectorizer = TfidfVectorizer(encoding='utf-8', stop_words=stopwords.words('english'))\n",
    "X = vectorizer.fit_transform(documents).toarray()\n",
    "terms = vectorizer.get_feature_names() if hasattr(vectorizer, 'get_feature_names') else vectorizer.vocabulary_.keys()\n",
    "print(len(terms))"
   ]
  },
  {
   "cell_type": "code",
   "execution_count": 41,
   "id": "f9db635a",
   "metadata": {},
   "outputs": [
    {
     "data": {
      "text/plain": [
       "(1001, 2025)"
      ]
     },
     "execution_count": 41,
     "metadata": {},
     "output_type": "execute_result"
    }
   ],
   "source": [
    "X.shape"
   ]
  },
  {
   "cell_type": "code",
   "execution_count": 42,
   "id": "8ad08a89",
   "metadata": {},
   "outputs": [
    {
     "data": {
      "text/plain": [
       "dict_keys(['subscribe', 'download', 'watch', 'depth', 'later', 'excite', 'learn', 'guy', 'build', 'could', 'please', 'erpnext', 'tutorial', 'hate', 'program', 'head', 'choose', 'wrong', 'career', 'lame', 'share', 'use', 'sharegpt', 'fact', 'video', 'hour', 'non', 'chatgpt', 'one', 'around', 'kind', 'defeat', 'point', 'update', 'web', 'browser', 'people', 'need', 'course', 'ask', 'question', 'ah', 'man', 'well', 'good', 'hallucination', 'technical', 'background', 'work', 'fix', 'error', 'chat', 'gpt', 'waste', 'time', 'box', 'rock', 'nice', 'make', 'believe', 'world', 'still', 'place', 'linux', 'year', 'great', 'interest', 'appreciate', 'gj', 'much', 'beginner', 'add', 'english', 'subtitle', 'remove', 'bracket', 'timestamps', '00', 'youtube', 'detect', 'section', 'let', 'navigate', 'interface', 'may', 'also', 'millisecond', 'possible', 'create', 'bash', 'script', 'stop', 'start', 'tomcat', 'holly', 'service', 'reboot', 'server', 'ubuntu', 'cloud', 'deployment', 'debian', 'instead', 'window', 'anything', 'description', 'fully', 'rather', 'ml', 'misunderstood', 'caption', 'tag', 'expect', 'practical', 'command', 'theory', 'base', 'nothing', 'bad', 'explanation', 'late', 'posterity', 'green', 'witch', 'meantime', 'pronounce', 'gren', 'itch', 'american', 'forgive', 'like', 'interject', 'moment', 'even', 'teach', 'first', 'install', 'driver', 'important', 'system', 'jargon', 'acronym', 'get', 'go', 'comprehend', 'talk', 'try', 'cmd', 'put', 'ad', 'every', 'two', 'minute', 'plz', 'graphql', 'type', 'api', 'sir', 'distro', 'version', 'combination', 'software', 'iso', 'installer', 'come', 'example', 'call', 'rom', 'android', 'something', 'family', 'open', 'source', 'unix', 'operate', 'kernel', 'myth', 'amd', 'graphic', 'card', 'proccessors', 'want', 'content', 'informative', 'love', 'anti', 'virus', 'file', 'user', 'account', 'root', 'directory', 'accurately', 'different', 'distros', 'distribution', 'thank', 'cover', 'programmer', 'hacker', 'always', 'sound', 'person', 'bro', 'explain', 'sentiment', 'helpful', 'faster', 'effective', 'wow', 'github', 'nc', 'right', 'best', '1st', 'view', 'shittt', 'comment', 'hi', 'wonderful', 'refresh', 'lay', 'back', 'hype', 'overview', 'finally', 'machine', 'specialist', 'portfolio', 'push', 'high', 'quality', 'often', 'quickly', 'little', 'bit', 'humour', 'inject', 'image', 'without', 'acknowledge', 'audio', 'concise', 'nature', 'delivered', 'step', 'guide', 'migrate', 'angular', 'firebase', 'app', 'sdk', 'v8', 'v9', 'would', 'really', 'keep', 'summarize', 'complex', 'topic', 'short', 'amount', 'take', 'real', 'skill', 'minor', 'correction', 'accuracy', 'function', 'see', 'unsupervised', 'learning', 'mind', 'know', 'thing', 'channel', 'interesting', 'pretty', 'perfect', 'opinion', 'mention', 'acquisition', 'cleaning', 'division', 'data', 'train', 'set', 'test', 'true', 'supervised', 'case', 'problem', 'clear', 'easy', 'way', 'divide', 'reinforcement', 'agent', 'play', 'game', 'model', 'learns', 'perform', 'action', 'simulated', 'environment', 'generate', 'fly', 'metric', 'classification', 'task', 'binary', 'cross', 'entropy', 'yes', 'haskell', 'second', 'wonder', 'gifs', 'pls', 'pump', 'fire', 'static', 'site', 'generator', 'lifeee', 'cost', 'host', 'webapp', 'phone', 'unpopular', 'ai', 'capability', 'surpass', 'humanity', 'independently', 'deserve', 'detriment', 'human', 'someone', 'python', 'language', 'choice', 'scientist', 'hola', 'difference', 'deep', 'constructively', 'didnt', 'properly', 'dozen', 'new', 'term', 'kinda', 'hence', 'usage', 'math', 'instruction', 'review', 'decent', 'especially', 'smart', 'earbuds', 'tensorflow', 'demo', 'past', 'outdated', 'cool', 'feel', 'hard', 'enough', 'lighter', 'lol', 'job', 'market', 'saturate', 'live', 'promise', 'criminally', 'underrated', 'creator', 'chance', 'recommend', 'search', 'stuff', 'relate', 'google', 'focus', 'hold', 'give', 'thumb', 'challenge', 'beyond', 'satisfied', 'tell', 'output', 'guess', 'increase', 'level', 'end', 'apparently', 'interference', 'leaning', 'process', 'lovely', 'django', 'soo', 'super', 'loss', 'algorithm', 'specifically', 'design', 'sentence', 'say', 'eat', 'shit', 'dishwasher', 'ingredient', 'miss', 'netflix', 'feeling', 'fireship', 'speed', 'maybe', 'idk', 'glorify', 'predictive', 'engine', 'mix', 'though', 'follow', 'sort', 'ssh', 'key', 'issue', 'awsome', 'consider', 'vice', 'cheap', 'puffy', 'tank', 'algorithmically', 'apologise', 'ticket', 'methodically', 'exist', 'qua', 'gorgeous', 'mimosa', 'venomous', 'permissible', 'barge', 'simple', 'straight', 'insightful', 'demy', 'rude', 'qazi', 'damned', 'indian', 'slang', 'horrible', 'sometimes', 'understand', 'helpfull', 'thanks', 'send', 'datasets', 'practise', '35', 'unexpected', 'keyword', 'argument', 'categorical', 'feature', 'idea', 'provide', 'sample', 'demonstration', 'algo', 'sequence', 'mean', 'supervise', 'class', 'quiz', 'discuss', 'significance', 'science', 'order', 'chandrayan2', 'typical', 'space', 'mission', 'ur', 'effort', 'request', 'copy', 'session', 'powerful', 'safe', 'anaconda', 'jupiter', 'notebook', 'ppt', 'impressive', 'scratch', 'sufficient', 'simplilearn', 'apply', 'role', 'knowledge', 'individual', 'interview', 'worth', 'wish', 'include', 'intructors', 'voice', 'listen', 'linear', 'regression', 'onehotencoder', 'legend', 'reply', 'post', 'dataset', 'hey', 'word', 'student', 'appropriate', 'basic', 'experience', 'pandas', 'numpy', 'etc', 'prereg', 'intermediate', 'array', 'bayesian', 'probabilty', 'confusion', 'matrix', 'code', 'block', 'logistic', 'cluster', 'suggest', 'line', 'paste', 'hope', 'prequarities', 'animation', 'lesson', 'beautiful', 'part', 'brush', 'kid', 'however', 'incorrect', 'marvellous', 'title', 'eng', 'less', 'force', 'skip', 'due', 'sophisticated', 'teaching', 'methodology', 'dont', 'transcript', 'auto', 'arabic', 'show', 'many', 'snippet', 'underlying', 'involve', 'result', 'atleast', 'meaning', 'maintain', 'viedeos', 'dam', 'sure', 'check', 'superbbb', 'brilliant', 'vedio', 'grade', '8th', 'explanatory', 'generally', 'lot', 'echo', 'reduce', 'concentration', 'ann', 'describe', 'awesome', 'doubt', 'neural', 'network', 'poor', 'upcoming', 'improve', 'useful', 'complete', 'yet', 'far', 'hello', 'team', 'custom', 'advance', 'unclear', 'datase', 'parameter', 'setup', 'value', 'conv2d', 'shape', 'convolutional', 'layer', 'maxpooling', '32x64', 'help', 'atom', 'editor', 'costly', 'comparison', 'others', 'slide', 'rnn', '30', 'activation', 'threshold', 'housewife', 'actually', 'behind', 'gradient', 'descent', 'concept', 'amaze', 'exactly', 'weight', 'change', 'propagation', 'mistake', '53', 'negative', 'slope', '21', 'graph', 'im', 'confuse', 'think', 'positive', 'decrease', 'versa', 'cram', 'derivation', 'satisfy', 'speak', 'louder', 'harsh', 'brief', 'understandable', 'somewhat', 'note', 'curve', 'differentiable', 'gd', 'ibm', 'convex', 'stock', 'confusing', 'manage', 'write', 'everything', 'backwards', 'glass', 'flawlessly', 'steve', 'kerr', 'min', 'long', 'boring', 'lecture', 'visualise', 'saw', 'screen', 'fcc', 'unique', 'project', 'resume', 'everyone', 'enjoy', 'taste', 'duplicate', 'auth', 'instance', 'enum', 'tw', 'import', 'suggestion', 'recoil', 'tech', 'journey', 'owe', 'tiny', 'website', 'tailwind', 'next', 'product', 'execution', 'external', 'full', 'mindblowing', 'anyway', 'microservice', 'architecture', 'deploy', 'whole', 'vid', 'side', 'dsa', 'page', 'router', 'old', 'fashion', 'nextjs13', 'stable', 'urdu', 'thought', 'drupal', 'theme', 'name', 'co', 'pilot', 'run', 'flock', 'young', 'brother', 'chap', 'document', 'track', 'mern', 'stack', 'bos', 'tomi', 'link', 'original', 'template', 'large', 'tryna', 'unchained', 'pay', 'url', 'accent', 'look', 'nigerian', 'sh', 'alive', 'ramp', 'fast', 'fowarding', 'couple', 'day', 'building', 'tuis', 'attitude', 'tutor', 'forward', 'future', 'preferred', 'assertive', 'necessary', 'rust', 'lang', '20hrs', 'seem', 'rely', 'proper', 'read', 'somewhere', 'bridge', 'gap', 'java', 'bootdotdev', 'scary', 'third', 'row', 'drop', 'ago', 'typescript', 'return', 'yesterday', 'launch', 'hr', 'grateful', 'ca', 'wait', 'hand', 'premium', 'free', 'print', 'println', 'fmt', 'woke', 'morning', 'ready', 'finish', 'camp', 'another', 'golang', 'heckkkkkk', 'army', 'yeehaw', 'developer', 'computer', 'cod', 'previous', 'curry', 'context', 'sql', 'emit', 'json', 'sqlc', 'yaml', 'formatter', 'oke', 'decide', 'udemy', 'bootdev', 'lane', 'elixir', 'gem', 'chanel', 'analyst', 'begin', 'automation', 'programming', 'unity', '3d', 'making', 'beggining', 'plzzzzzzz', 'last', 'night', 'bed', 'compose', 'mathematical', 'discovery', 'creative', 'literature', 'form', 'book', 'introduction', 'available', 'react', 'ja', 'pleaase', 'unable', 'save', 'playlist', 'php', 'strange', 'decision', 'pick', 'wo', 'ooh', 'fun', 'east', 'west', 'suck', 'sottotitolli', 'jumpy', 'frustrate', 'html', 'css', 'textbook', 'cs', 'beginning', 'calm', 'ego', 'absolutely', 'face', 'freecodecamp', 'famous', 'joke', 'bruh', 'clash', 'clan', 'pertamax', 'okay', 'goooooo', 'damn', 'today', 'yt', 'functional', 'ok', 'interested', 'statement', 'visualize', 'recursively', 'inside', 'favorite', 'passport', 'stats', 'implement', 'appear', 'twice', 'till', 'supermarket', 'excellent', 'presentation', 'nicely', 'timeline', 'break', 'mark', 'happy', 'already', 'dead', 'flutter', 'totally', 'useless', 'bot', 'aupa', 'atleti', 'dude', 'sorry', 'study', 'tool', 'artificial', 'intelligence', 'replace', 'actual', 'recording', 'anyone', 'maui', 'rn', 'net', 'eye', 'handle', 'light', 'azure', 'sync', 'synched', 'woderfull', 'bug', 'therefore', 'month', 'microsoft', 'technology', 'blazor', 'probably', 'low', 'compiler', 'llvm', 'cpython', 'amazing', 'holy', 'shift', 'explanantion', 'doesnt', 'communication', 'stand', 'terrible', 'least', 'boy', 'find', 'benefit', 'align', 'ramble', 'fine', 'hall', 'become', 'uncomfortable', 'online', 'upload', 'aim', 'suffice', 'basically', 'ayush', 'repeat', 'frequently', 'alone', '50', 'greeting', 'uruguay', 'pre', 'requisite', 'require', 'stay', 'asleep', 'queen', 'ny', 'difficult', 'genuinely', 'strain', '80', 'sigle', 'thats', 'hell', 'big', 'engineering', 'macbook', 'air', 'm2', 'pro', '13inch', 'core', '16gb', 'memory', '512gb', 'storage', 'favor', 'grate', 'almoust', 'obut', 'analysis', 'near', 'weekend', 'definitely', 'genius', 'styling', 'bear', 'offense', 'spend', 'ideal', 'impatient', 'yayyyy', 'plese', 'meka', 'chaybot', 'pythun', 'german', 'zustand', 'oh', 'fantastic', 'redux', 'maker', 'vite', 'exact', 'prepare', 'todo', 'provider', 'reuse', 'store', 'stackoverflow', 'lack', 'ability', 'glad', 'expanded', 'continue', 'commerce', 'application', 'style', 'publish', 'linkedin', 'clone', 'music', 'arent', 'internet', 'since', 'alot', 'musician', 'lucky', 'nowadays', 'access', 'school', 'forum', 'discussion', 'debug', 'instructor', 'nishant', 'energy', 'almost', 'requirement', 'gather', 'deveopment', 'usememo', 'useeffect', '12hrs', 'paper', 'life', '08', 'logic', 'body', 'div', 'padding', 'max', 'width', 'suddenly', 'ta', 'repetitive', 'clean', 'usenavigate', 'hook', 'move', 'login', 'register', 'cant', 'dom', 'simpler', 'small', 'feedback', 'detail', 'newbie', 'along', 'jump', 'similar', '30min', '15min', 'solve', '11h', 'notice', 'profile', 'pop', 'portion', 'monstrosity', 'apart', 'notification', 'functionality', 'vanilla', 'javascript', 'walk', 'must', 'surprisingly', 'bootstrap', 'nodejs', 'express', 'mongodb', 'snap', 'netlify', 'shady', 'business', 'practice', 'literally', 'email', 'recruiter', 'kumar', 'started', 'struggle', 'lately', 'significantly', 'critique', 'dumb', 'clearly', 'plan', 'vet', 'thoroughly', '3hr', 'profilepopup', 'backend', 'compulsory', 'response', 'automated', 'omg', 'native', 'strapi', 'yeahhh', 'quit', 'blue', 'lost', 'throw', 'unlimited', '15mis', 'ever', 'half', 'million', 'dollar', 'plzz', 'front', 'devs', 'slave', 'tyra', 'development', 'haunt', 'unwanted', 'library', 'prononciation', 'bother', 'manually', 'contact', 'mediasss', 'gpt4', 'ehpiyaaiiiiii', 'julio', 'casal', 'imo', 'teen', 'minimal', 'epiyaeeeiii', 'spring', 'boot', 'gon', 'na', 'hear', 'nightmare', 'security', 'rest', 'swagger', 'apis', 'general', 'regular', 'pattern', 'ii', 'progress', 'outside', 'comfort', 'zone', 'michael', 'john', 'bobak', 'might', 'sense', 'hurry', 'personally', 'stick', 'controller', 'majority', 'valuable', 'ugly', 'honest', 'humble', 'prerequisite', 'elon', 'musk', 'location', 'twitter', 'logo', 'friendly', 'timing', 'installation', 'doc', 'appwrite', 'guyz', 'patton', 'either', 'dartz', 'dart', 'smash', 'button', 'rivaan', 'realtime', 'edit', 'configuration', 'console', 'device', 'presenter', 'india', 'speaking', 'personal', 'coding', 'sanity', 'recap', 'introduce', 'kapehe', 'unknown', '40', 'studio', 'folder', 'delete', 'npm', 'dev', 'solution', 'studiopage', 'arrow', 'sitemap', 'sitemaps', 'showcase', 'structure', 'specify', 'standard', '25', '23', 'act', 'teacger', 'admin', 'route', 'protect', 'field', 'optional', 'uncaught', 'leave', 'resource', 'font', 'vscode', 'kaphe', 'teacher', 'dire', 'pull', 'curious', 'bottom', 'terminal', 'emulator', 'plugin', 'never', 'confused', 'modern', 'variety', 'framework', 'groq', 'query', 'category', 'display', 'article', 'schema', 'repo', '05', 'following', 'cors', 'origin', 'localhost', 'dyanamic', 'syntaxerror', 'token', 'position', 'parse', 'anonymous', 'anybody', 'database', 'connection', 'reflect', 'fetch', 'cache', 'didnot', 'else', 'asset', 'yayyy', 'dust', 'cat', 'slow', 'pure', 'click', 'lady', 'adminpage', 'client', 'white', 'element', 'arsalan', 'lifesaver', 'switch', 'webpack', 'touch', 'author', 'accelerate', 'select', 'selector', 'imagine', 'ignore', 'huge', 'risk', 'expose', 'serve', 'jsx', 'activity', 'tab', 'mask', 'encode', 'optimize', 'disappoint', 'lib', 'mode', 'option', 'happen', 'hindi', 'tamil', 'mr', 'beast', 'arslan', 'support', 'eslint', 'congrats', 'downloading', 'number', 'death', 'cra', 'freelance', 'seek', 'experienced', 'freelancer', 'creation', 'payment', 'kindly', 'pyspark', 'plzzzzzz', 'sr', 'speaker', 'whit', 'collapse', 'toggle', 'akhand', 'hindu', 'rashtra', 'aka', 'eurasia', 'foreigner', 'pronunciation', 'khattaks', 'khattak', 'afraid', 'hes', 'cc', 'rescue', 'ill', 'rought', 'chadgpt', 'slurp', 'trigger', 'veet', 'mumble', 'constantly', 'brad', 'deal', 'gratitude', 'develop', 'purpose', 'separate', 'extractor', 'openai', 'prompt', 'input', 'extractkeywords', 'whoop', 'god', 'fetching', 'cheer', 'midjourney', 'congratulation', '2m', 'alternative', 'besides', 'worldwide', 'quick', 'bluewillow', 'platform', 'thankyou', 'average', 'saver', 'techie', 'local', 'workspace', 'merry', 'christmas', 'render', 'vercel', 'wont', 'roadmap', 'usual', 'boss', 'ig', 'patiently', 'attempt', 'gold', 'rush', 'spinner', 'whether', 'js', 'coverage', 'macos', 'monterey', 'port', 'airplay', 'receiver', 'king', 'hot', 'buzz', 'indestry', 'realise', 'remotely', 'locally', 'nodemon', 'git', 'bitbucket', 'desktop', 'ui', 'electron', 'perfectly', 'abhishek', 'sought', 'mentor', 'tail', '04', 'lts', 'top', 'accordingly', 'cli', 'fresh', 'backup', 'restore', 'stage', 'eventually', 'mess', 'tinker', 'crash', 'dotfiles', 'hair', 'handy', 'node', 'atlas', 'carry', 'shoulder', 'series', 'permission', 'cmder', 'config', 'http', 'youtu', 'f7p4ol6hp6c', 'thx', 'coder', 'pasths', 'attract', 'viewer', 'regural', 'trial', 'diagram', 'learned', 'tip', 'cd', 'pushd', 'popd', 'qwik', 'fullcourse', 'pleaaase', 'mislead', 'sed', 'stripe', 'cooper', 'revisit', 'clarification', 'multiple', 'earn', 'sub', 'grain', 'restructure', 'mvc', 'usecontext', 'cartcontext', 'approach', 'global', 'autocrlf', 'false', 'arab', 'fbv', '2023', 'success', 'cancel', 'realize', 'walter', 'cook', 'patreon', 'total', 'cart', 'overall', 'lazy', 'traversy', 'medium', 'thnaks', '10', 'fresher', 'trouble', 'alert', 'log', 'webpage', 'buid', 'crud', 'group', 'shop', 'ftp', 'gui', 'insane', 'nuend', 'cubase', 'fl', 'professional', 'producer', '29', 'ffc', 'extension', 'codemy', 'membership', 'completely', 'fixed', 'quantity', 'item', 'control', 'supply', 'supplier', 'receive', 'enter', 'address', 'tried', 'fail', 'production', 'procedure', 'april', 'fool', 'hilarious', 'aluminum', 'shopping', 'checkout', 'recod', 'h1', 'record', 'remind', 'elder', 'vibe', 'mirror', 'vm', 'virtualbox', 'laptop', 'laravel', 'rail', 'formal', 'documentation', 'understanding', 'gym', 'refer', 'institution', 'muscle', 'gymnasium', 'subscriber', 'ide', 'rl', 'constructive', 'typo', 'melt', 'woah', 'assignment', 'submit', 'hattsoff', 'tim', 'son', 'pygame', 'sdl', 'wrapper', 'aswell', 'skim', 'laggy', 'thnks', 'reason', 'whenever', 'character', 'ground', 'bounce', 'double', 'cause', 'tims', 'complicate', 'novice', 'proficient', 'master', 'module', 'suitable', 'viewing', 'sdl2', 'yay', 'understable', 'hat', 'png', 'load', 'replit', 'modulenotfounderror', 'mobile', 'release', 'platformer', 'serious', 'commercial', 'phyton', 'mario', 'zero', 'torture', 'easily', 'mini', 'hundred', 'instal', 'random', 'os', 'highlight', 'wathcing', 'spot', 'professor', 'notion', 'manner', 'child', 'shad', 'mysql', 'toi', 'altium', 'currently', 'crap', 'disable', 'default', 'smilga', 'xp', 'wallpaper', 'exe', 'password', 'nope', 'visual', 'freecode', 'pinescript', 'toturial', 'draaaaag', 'mother', 'exposition', 'forgot', 'history', 'gamno', 'banana', 'hahah', 'ahead', 'eyyy', 'letsgooo', 'die', 'soon', 'silicon', 'valley', 'bank', 'careful', 'trash', 'sucker', 'stamp', 'friend', 'current', 'earlier', 'cours', '14hr', 'contain', 'ruflex', 'binge', 'kinds', 'goodness', 'shame', 'rout', 'somebody', 'tumb', 'collab', 'cource', 'simply', 'recepies', '59', 'id', 'setting', 'jason', 'training', '49', 'recommeding', 'answer', 'mister', 'herzliche', 'gr', 'ssen', 'webapplication', 'penetration', 'mb', 'blind', 'list', 'supporte', 'event', 'compete', 'absolute', 'toolkit', 'turn', 'tbh', 'bomb', 'anymore', 'aplly', 'self', 'begginers', 'engaging', 'whats', 'bob', 'ziroll', 'scrimba', 'insight', 'ty', 'lord', 'bless', 'encounter', '58', 'setcount', 'count', 'backroads', 'jumed', 'homework', 'useref', 'appreciated', '15', 'component', 'mount', 'empty', 'deppends', 'translation', 'spanish', 'refresher', 'workflows', 'readme', 'btw', 'frontend', 'incredible', 'usereducer', 'pass', 'reducer', '5days', 'reactjs', 'join', 'ev', 'index', 'sad', 'fill', 'odd', 'roddy', 'ricch', 'mezzie', 'cuttin', 'deuce', 'blip', 'straighten', 'marley', 'teachin', 'wich', 'codable', 'oluwatomi', 'cute', 'opportunity', 'better', 'heart', 'revision', 'computational', 'geometry', 'env', 'variable', 'flask', 'export', 'execute', 'rockstar', 'freebootcamp', 'quite', 'uuu', 'bright', 'youngster', 'junior', 'efficient', 'naming', 'convention', 'snake', 'except', 'fastapi', 'knowledgable', 'microservices', 'regret', 'hue', 'eyy', 'unuseful', 'doesnot', 'final', 'fantasy', 'mmorpg', 'bookmark', 'blender', 'surely', 'unreal', 'consumer', 'peronal', 'bucket', 'draw', 'everyday', 'inflation', 'potion', 'unit', 'money', 'raise', 'middle', 'segment', 'ionic', 'authentication', 'authorization', '30hr', 'databricks', 'dp', 'asp', 'pleaseeeeeeee', 'reactnative', 'forget', 'war', 'house', 'nowar', 'friggin', 'explaination', 'worthfull', 'gift', 'excelente', 'worker', 'avoid', 'scale', 'thread', 'dotnet', 'chapter', 'breadth', 'taco', 'havers', 'fraud', 'hack', 'alg', 'steal', 'playroom', 'kek', 'reject', 'interruption', 'consent', 'obstruction', 'advertisement', 'wheeze', 'bangladesh', 'phenomenal', 'tnice', 'tutorialngs', 'soft', 'ntion', 'anytnice', 'tutorialng', 'devops', 'cassandra', 'oppertunity', 'diligence', 'dissappoints', 'daily', 'href', 'everytime', 'qr', 'worry', 'veryyyyyyyyyyyyyyyyyyyy', 'videos', 'customizable', 'qrs', 'color', 'pause', 'emmet', 'forth', 'm8', 'customized', 'bitly', 'formdata', 'pakistan', 'inspiration', 'profit', 'qrcode', 'object', 'listener', 'redo', 'shorter', 'shorten', 'able', 'text', 'conditional', 'settimeout', 'progressive', 'apps', 'py', 'breath', 'away', 'obviously', 'package', 'bi', 'directional', 'fascinating', 'innovation', 'wicked', 'clarifies', 'pyscript', 'together', 'educational', 'honestly', 'single', 'prevous', 'exciting', 'plenty', 'explore', 'arduino', 'esp32', 'raspberry', 'pi', 'dashboard', 'community', 'oportunity', 'tensor', 'flow', 'kera', 'various', 'across', 'slytherin', 'manipulate', 'tree', 'beatufulsoup', 'bet', 'interoperate', 'messaging', 'seperate', 'wild', 'pickle', 'distribute', 'expert', 'pip', 'privilege', 'meet', 'hit', 'indentation', 'sensitivity', 'compression', 'mangle', 'intro', 'tkinter', 'faff', 'prove', 'longetivity', 'gota', 'assembly', 'reliant', 'htmx', 'revolutionary', 'imho'])"
      ]
     },
     "execution_count": 42,
     "metadata": {},
     "output_type": "execute_result"
    }
   ],
   "source": [
    "terms"
   ]
  }
 ],
 "metadata": {
  "kernelspec": {
   "display_name": "Python 3 (ipykernel)",
   "language": "python",
   "name": "python3"
  },
  "language_info": {
   "codemirror_mode": {
    "name": "ipython",
    "version": 3
   },
   "file_extension": ".py",
   "mimetype": "text/x-python",
   "name": "python",
   "nbconvert_exporter": "python",
   "pygments_lexer": "ipython3",
   "version": "3.10.9"
  }
 },
 "nbformat": 4,
 "nbformat_minor": 5
}
